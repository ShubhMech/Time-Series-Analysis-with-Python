{
 "cells": [
  {
   "cell_type": "code",
   "execution_count": 23,
   "id": "39fb8834-0152-494e-8713-7c1f47b2a4e2",
   "metadata": {},
   "outputs": [
    {
     "name": "stdout",
     "output_type": "stream",
     "text": [
      "Category: All categories    66\n",
      "Name: 2011-06-26, dtype: object\n",
      "Index(['Category: All categories'], dtype='object')\n",
      "Index(['Week', '2011-06-26', '2011-07-03', '2011-07-10', '2011-07-17',\n",
      "       '2011-07-24', '2011-07-31', '2011-08-07', '2011-08-14', '2011-08-21',\n",
      "       ...\n",
      "       '2016-04-17', '2016-04-24', '2016-05-01', '2016-05-08', '2016-05-15',\n",
      "       '2016-05-22', '2016-05-29', '2016-06-05', '2016-06-12', '2016-06-19'],\n",
      "      dtype='object', length=262)\n"
     ]
    }
   ],
   "source": [
    "# Import pandas and plotting modules\n",
    "import pandas as pd\n",
    "import matplotlib.pyplot as plt\n",
    "\n",
    "# Convert the date index to datetime\n",
    "diet= pd.read_csv(r\"D:\\Asus\\Documents\\multiTimeline (2).csv\")\n",
    "diet.head(5)\n",
    "# pd.to_datetime(diet[\"Date\"])\n",
    "diet.columns\n",
    "diet.describe\n",
    "type(diet)\n",
    "print(diet.iloc[1,:])\n",
    "print(diet.columns)\n",
    "print(diet.index)\n",
    "\n"
   ]
  },
  {
   "cell_type": "code",
   "execution_count": 24,
   "id": "0f70c3db-2548-4bc9-918e-91432a38017c",
   "metadata": {},
   "outputs": [
    {
     "data": {
      "text/html": [
       "<div>\n",
       "<style scoped>\n",
       "    .dataframe tbody tr th:only-of-type {\n",
       "        vertical-align: middle;\n",
       "    }\n",
       "\n",
       "    .dataframe tbody tr th {\n",
       "        vertical-align: top;\n",
       "    }\n",
       "\n",
       "    .dataframe thead th {\n",
       "        text-align: right;\n",
       "    }\n",
       "</style>\n",
       "<table border=\"1\" class=\"dataframe\">\n",
       "  <thead>\n",
       "    <tr style=\"text-align: right;\">\n",
       "      <th></th>\n",
       "      <th>Category: All categories</th>\n",
       "    </tr>\n",
       "  </thead>\n",
       "  <tbody>\n",
       "    <tr>\n",
       "      <th>Week</th>\n",
       "      <td>diet: (Worldwide)</td>\n",
       "    </tr>\n",
       "    <tr>\n",
       "      <th>2011-06-26</th>\n",
       "      <td>66</td>\n",
       "    </tr>\n",
       "    <tr>\n",
       "      <th>2011-07-03</th>\n",
       "      <td>67</td>\n",
       "    </tr>\n",
       "    <tr>\n",
       "      <th>2011-07-10</th>\n",
       "      <td>74</td>\n",
       "    </tr>\n",
       "    <tr>\n",
       "      <th>2011-07-17</th>\n",
       "      <td>73</td>\n",
       "    </tr>\n",
       "  </tbody>\n",
       "</table>\n",
       "</div>"
      ],
      "text/plain": [
       "           Category: All categories\n",
       "Week              diet: (Worldwide)\n",
       "2011-06-26                       66\n",
       "2011-07-03                       67\n",
       "2011-07-10                       74\n",
       "2011-07-17                       73"
      ]
     },
     "execution_count": 24,
     "metadata": {},
     "output_type": "execute_result"
    }
   ],
   "source": [
    "diet.head(5)"
   ]
  },
  {
   "cell_type": "code",
   "execution_count": 25,
   "id": "a23515bf-8983-429a-bc86-da1e7ed28b51",
   "metadata": {},
   "outputs": [
    {
     "data": {
      "text/plain": [
       "pandas.core.frame.DataFrame"
      ]
     },
     "execution_count": 25,
     "metadata": {},
     "output_type": "execute_result"
    }
   ],
   "source": [
    "type(diet)"
   ]
  },
  {
   "cell_type": "code",
   "execution_count": null,
   "id": "26b79984-e6ee-4081-9508-4b2440d7e59c",
   "metadata": {},
   "outputs": [],
   "source": [
    "\n"
   ]
  },
  {
   "cell_type": "code",
   "execution_count": 26,
   "id": "630b8ada-a5cc-402b-b04e-af7284bc896a",
   "metadata": {},
   "outputs": [
    {
     "data": {
      "text/plain": [
       "Index(['Category: All categories'], dtype='object')"
      ]
     },
     "execution_count": 26,
     "metadata": {},
     "output_type": "execute_result"
    }
   ],
   "source": [
    "diet.columns"
   ]
  },
  {
   "cell_type": "code",
   "execution_count": 27,
   "id": "6776bcf7-6117-4142-bf52-726dcf256bf8",
   "metadata": {},
   "outputs": [
    {
     "data": {
      "text/plain": [
       "Index(['Week', '2011-06-26', '2011-07-03', '2011-07-10', '2011-07-17',\n",
       "       '2011-07-24', '2011-07-31', '2011-08-07', '2011-08-14', '2011-08-21',\n",
       "       ...\n",
       "       '2016-04-17', '2016-04-24', '2016-05-01', '2016-05-08', '2016-05-15',\n",
       "       '2016-05-22', '2016-05-29', '2016-06-05', '2016-06-12', '2016-06-19'],\n",
       "      dtype='object', length=262)"
      ]
     },
     "execution_count": 27,
     "metadata": {},
     "output_type": "execute_result"
    }
   ],
   "source": [
    "diet.index"
   ]
  },
  {
   "cell_type": "code",
   "execution_count": null,
   "id": "914e38be-c57a-42e6-a168-f9e34506b6d6",
   "metadata": {},
   "outputs": [],
   "source": []
  },
  {
   "cell_type": "code",
   "execution_count": 28,
   "id": "d6b5843b-f1c6-48e0-8698-601bc9379da0",
   "metadata": {},
   "outputs": [],
   "source": [
    "diet=diet.iloc[1:,:]"
   ]
  },
  {
   "cell_type": "code",
   "execution_count": 29,
   "id": "386db9e9-c972-4dcd-bdb1-69f174ac3e8b",
   "metadata": {},
   "outputs": [
    {
     "data": {
      "text/html": [
       "<div>\n",
       "<style scoped>\n",
       "    .dataframe tbody tr th:only-of-type {\n",
       "        vertical-align: middle;\n",
       "    }\n",
       "\n",
       "    .dataframe tbody tr th {\n",
       "        vertical-align: top;\n",
       "    }\n",
       "\n",
       "    .dataframe thead th {\n",
       "        text-align: right;\n",
       "    }\n",
       "</style>\n",
       "<table border=\"1\" class=\"dataframe\">\n",
       "  <thead>\n",
       "    <tr style=\"text-align: right;\">\n",
       "      <th></th>\n",
       "      <th>Category: All categories</th>\n",
       "    </tr>\n",
       "  </thead>\n",
       "  <tbody>\n",
       "    <tr>\n",
       "      <th>2011-06-26</th>\n",
       "      <td>66</td>\n",
       "    </tr>\n",
       "    <tr>\n",
       "      <th>2011-07-03</th>\n",
       "      <td>67</td>\n",
       "    </tr>\n",
       "    <tr>\n",
       "      <th>2011-07-10</th>\n",
       "      <td>74</td>\n",
       "    </tr>\n",
       "    <tr>\n",
       "      <th>2011-07-17</th>\n",
       "      <td>73</td>\n",
       "    </tr>\n",
       "    <tr>\n",
       "      <th>2011-07-24</th>\n",
       "      <td>72</td>\n",
       "    </tr>\n",
       "  </tbody>\n",
       "</table>\n",
       "</div>"
      ],
      "text/plain": [
       "           Category: All categories\n",
       "2011-06-26                       66\n",
       "2011-07-03                       67\n",
       "2011-07-10                       74\n",
       "2011-07-17                       73\n",
       "2011-07-24                       72"
      ]
     },
     "execution_count": 29,
     "metadata": {},
     "output_type": "execute_result"
    }
   ],
   "source": [
    "diet.head(5)"
   ]
  },
  {
   "cell_type": "code",
   "execution_count": 30,
   "id": "549790cf-dff2-4edd-8051-16324e48d670",
   "metadata": {},
   "outputs": [
    {
     "data": {
      "text/plain": [
       "Index(['2011-06-26', '2011-07-03', '2011-07-10', '2011-07-17', '2011-07-24',\n",
       "       '2011-07-31', '2011-08-07', '2011-08-14', '2011-08-21', '2011-08-28',\n",
       "       ...\n",
       "       '2016-04-17', '2016-04-24', '2016-05-01', '2016-05-08', '2016-05-15',\n",
       "       '2016-05-22', '2016-05-29', '2016-06-05', '2016-06-12', '2016-06-19'],\n",
       "      dtype='object', length=261)"
      ]
     },
     "execution_count": 30,
     "metadata": {},
     "output_type": "execute_result"
    }
   ],
   "source": [
    "diet.index"
   ]
  },
  {
   "cell_type": "code",
   "execution_count": 31,
   "id": "c668460b-acd6-44d2-a885-d307f3e99812",
   "metadata": {},
   "outputs": [],
   "source": [
    "diet.index= pd.to_datetime(diet.index)"
   ]
  },
  {
   "cell_type": "code",
   "execution_count": 32,
   "id": "b52b105a-5501-49ad-b187-ab8785849117",
   "metadata": {},
   "outputs": [
    {
     "data": {
      "text/html": [
       "<div>\n",
       "<style scoped>\n",
       "    .dataframe tbody tr th:only-of-type {\n",
       "        vertical-align: middle;\n",
       "    }\n",
       "\n",
       "    .dataframe tbody tr th {\n",
       "        vertical-align: top;\n",
       "    }\n",
       "\n",
       "    .dataframe thead th {\n",
       "        text-align: right;\n",
       "    }\n",
       "</style>\n",
       "<table border=\"1\" class=\"dataframe\">\n",
       "  <thead>\n",
       "    <tr style=\"text-align: right;\">\n",
       "      <th></th>\n",
       "      <th>Category: All categories</th>\n",
       "    </tr>\n",
       "  </thead>\n",
       "  <tbody>\n",
       "    <tr>\n",
       "      <th>2011-06-26</th>\n",
       "      <td>66</td>\n",
       "    </tr>\n",
       "    <tr>\n",
       "      <th>2011-07-03</th>\n",
       "      <td>67</td>\n",
       "    </tr>\n",
       "    <tr>\n",
       "      <th>2011-07-10</th>\n",
       "      <td>74</td>\n",
       "    </tr>\n",
       "    <tr>\n",
       "      <th>2011-07-17</th>\n",
       "      <td>73</td>\n",
       "    </tr>\n",
       "    <tr>\n",
       "      <th>2011-07-24</th>\n",
       "      <td>72</td>\n",
       "    </tr>\n",
       "  </tbody>\n",
       "</table>\n",
       "</div>"
      ],
      "text/plain": [
       "           Category: All categories\n",
       "2011-06-26                       66\n",
       "2011-07-03                       67\n",
       "2011-07-10                       74\n",
       "2011-07-17                       73\n",
       "2011-07-24                       72"
      ]
     },
     "execution_count": 32,
     "metadata": {},
     "output_type": "execute_result"
    }
   ],
   "source": [
    "diet.head(5)"
   ]
  },
  {
   "cell_type": "code",
   "execution_count": null,
   "id": "f21c697d-4158-447e-a10c-c37aec2cf876",
   "metadata": {},
   "outputs": [],
   "source": []
  }
 ],
 "metadata": {
  "kernelspec": {
   "display_name": "Python 3",
   "language": "python",
   "name": "python3"
  },
  "language_info": {
   "codemirror_mode": {
    "name": "ipython",
    "version": 3
   },
   "file_extension": ".py",
   "mimetype": "text/x-python",
   "name": "python",
   "nbconvert_exporter": "python",
   "pygments_lexer": "ipython3",
   "version": "3.8.5"
  }
 },
 "nbformat": 4,
 "nbformat_minor": 5
}
