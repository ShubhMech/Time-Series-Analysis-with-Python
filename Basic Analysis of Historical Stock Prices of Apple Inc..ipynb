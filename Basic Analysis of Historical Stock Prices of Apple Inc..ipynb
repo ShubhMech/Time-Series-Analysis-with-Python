{
 "cells": [
  {
   "cell_type": "code",
   "execution_count": 1,
   "id": "2ba58b81-aa20-4101-b56a-f062abc56060",
   "metadata": {},
   "outputs": [],
   "source": [
    "path = r\"D:\\Asus\\Documents\\archive\\AAPL.csv\""
   ]
  },
  {
   "cell_type": "code",
   "execution_count": 2,
   "id": "15f4fec9-bd1c-48d4-b797-14f0b3ee6251",
   "metadata": {},
   "outputs": [],
   "source": [
    "import pandas as pd"
   ]
  },
  {
   "cell_type": "code",
   "execution_count": null,
   "id": "2c71152f-5aa2-46d2-9237-83339e290c00",
   "metadata": {},
   "outputs": [],
   "source": []
  },
  {
   "cell_type": "code",
   "execution_count": 8,
   "id": "3562718b-04d4-4d0b-8c55-3c80d6f2c126",
   "metadata": {},
   "outputs": [],
   "source": [
    "stocks= pd.read_csv(path, parse_dates=[\"Date\"], index_col='Date')"
   ]
  },
  {
   "cell_type": "code",
   "execution_count": 9,
   "id": "fc5db17a-bb44-44d3-8a57-cdc3e1a10de6",
   "metadata": {},
   "outputs": [
    {
     "data": {
      "text/html": [
       "<div>\n",
       "<style scoped>\n",
       "    .dataframe tbody tr th:only-of-type {\n",
       "        vertical-align: middle;\n",
       "    }\n",
       "\n",
       "    .dataframe tbody tr th {\n",
       "        vertical-align: top;\n",
       "    }\n",
       "\n",
       "    .dataframe thead th {\n",
       "        text-align: right;\n",
       "    }\n",
       "</style>\n",
       "<table border=\"1\" class=\"dataframe\">\n",
       "  <thead>\n",
       "    <tr style=\"text-align: right;\">\n",
       "      <th></th>\n",
       "      <th>Open</th>\n",
       "      <th>High</th>\n",
       "      <th>Low</th>\n",
       "      <th>Close</th>\n",
       "      <th>Adj Close</th>\n",
       "      <th>Volume</th>\n",
       "    </tr>\n",
       "    <tr>\n",
       "      <th>Date</th>\n",
       "      <th></th>\n",
       "      <th></th>\n",
       "      <th></th>\n",
       "      <th></th>\n",
       "      <th></th>\n",
       "      <th></th>\n",
       "    </tr>\n",
       "  </thead>\n",
       "  <tbody>\n",
       "    <tr>\n",
       "      <th>1980-12-12</th>\n",
       "      <td>0.513393</td>\n",
       "      <td>0.515625</td>\n",
       "      <td>0.513393</td>\n",
       "      <td>0.513393</td>\n",
       "      <td>0.407747</td>\n",
       "      <td>117258400.0</td>\n",
       "    </tr>\n",
       "    <tr>\n",
       "      <th>1980-12-15</th>\n",
       "      <td>0.488839</td>\n",
       "      <td>0.488839</td>\n",
       "      <td>0.486607</td>\n",
       "      <td>0.486607</td>\n",
       "      <td>0.386473</td>\n",
       "      <td>43971200.0</td>\n",
       "    </tr>\n",
       "    <tr>\n",
       "      <th>1980-12-16</th>\n",
       "      <td>0.453125</td>\n",
       "      <td>0.453125</td>\n",
       "      <td>0.450893</td>\n",
       "      <td>0.450893</td>\n",
       "      <td>0.358108</td>\n",
       "      <td>26432000.0</td>\n",
       "    </tr>\n",
       "    <tr>\n",
       "      <th>1980-12-17</th>\n",
       "      <td>0.462054</td>\n",
       "      <td>0.464286</td>\n",
       "      <td>0.462054</td>\n",
       "      <td>0.462054</td>\n",
       "      <td>0.366972</td>\n",
       "      <td>21610400.0</td>\n",
       "    </tr>\n",
       "    <tr>\n",
       "      <th>1980-12-18</th>\n",
       "      <td>0.475446</td>\n",
       "      <td>0.477679</td>\n",
       "      <td>0.475446</td>\n",
       "      <td>0.475446</td>\n",
       "      <td>0.377609</td>\n",
       "      <td>18362400.0</td>\n",
       "    </tr>\n",
       "    <tr>\n",
       "      <th>...</th>\n",
       "      <td>...</td>\n",
       "      <td>...</td>\n",
       "      <td>...</td>\n",
       "      <td>...</td>\n",
       "      <td>...</td>\n",
       "      <td>...</td>\n",
       "    </tr>\n",
       "    <tr>\n",
       "      <th>2019-11-19</th>\n",
       "      <td>267.899994</td>\n",
       "      <td>268.000000</td>\n",
       "      <td>265.390015</td>\n",
       "      <td>266.290009</td>\n",
       "      <td>266.290009</td>\n",
       "      <td>19041800.0</td>\n",
       "    </tr>\n",
       "    <tr>\n",
       "      <th>2019-11-20</th>\n",
       "      <td>265.540009</td>\n",
       "      <td>266.079987</td>\n",
       "      <td>260.399994</td>\n",
       "      <td>263.190002</td>\n",
       "      <td>263.190002</td>\n",
       "      <td>26558600.0</td>\n",
       "    </tr>\n",
       "    <tr>\n",
       "      <th>2019-11-21</th>\n",
       "      <td>263.690002</td>\n",
       "      <td>264.010010</td>\n",
       "      <td>261.179993</td>\n",
       "      <td>262.010010</td>\n",
       "      <td>262.010010</td>\n",
       "      <td>30348800.0</td>\n",
       "    </tr>\n",
       "    <tr>\n",
       "      <th>2019-11-22</th>\n",
       "      <td>262.589996</td>\n",
       "      <td>263.179993</td>\n",
       "      <td>260.839996</td>\n",
       "      <td>261.779999</td>\n",
       "      <td>261.779999</td>\n",
       "      <td>16331300.0</td>\n",
       "    </tr>\n",
       "    <tr>\n",
       "      <th>2019-11-25</th>\n",
       "      <td>262.709991</td>\n",
       "      <td>266.440002</td>\n",
       "      <td>262.519989</td>\n",
       "      <td>266.369995</td>\n",
       "      <td>266.369995</td>\n",
       "      <td>21005100.0</td>\n",
       "    </tr>\n",
       "  </tbody>\n",
       "</table>\n",
       "<p>9823 rows × 6 columns</p>\n",
       "</div>"
      ],
      "text/plain": [
       "                  Open        High         Low       Close   Adj Close  \\\n",
       "Date                                                                     \n",
       "1980-12-12    0.513393    0.515625    0.513393    0.513393    0.407747   \n",
       "1980-12-15    0.488839    0.488839    0.486607    0.486607    0.386473   \n",
       "1980-12-16    0.453125    0.453125    0.450893    0.450893    0.358108   \n",
       "1980-12-17    0.462054    0.464286    0.462054    0.462054    0.366972   \n",
       "1980-12-18    0.475446    0.477679    0.475446    0.475446    0.377609   \n",
       "...                ...         ...         ...         ...         ...   \n",
       "2019-11-19  267.899994  268.000000  265.390015  266.290009  266.290009   \n",
       "2019-11-20  265.540009  266.079987  260.399994  263.190002  263.190002   \n",
       "2019-11-21  263.690002  264.010010  261.179993  262.010010  262.010010   \n",
       "2019-11-22  262.589996  263.179993  260.839996  261.779999  261.779999   \n",
       "2019-11-25  262.709991  266.440002  262.519989  266.369995  266.369995   \n",
       "\n",
       "                 Volume  \n",
       "Date                     \n",
       "1980-12-12  117258400.0  \n",
       "1980-12-15   43971200.0  \n",
       "1980-12-16   26432000.0  \n",
       "1980-12-17   21610400.0  \n",
       "1980-12-18   18362400.0  \n",
       "...                 ...  \n",
       "2019-11-19   19041800.0  \n",
       "2019-11-20   26558600.0  \n",
       "2019-11-21   30348800.0  \n",
       "2019-11-22   16331300.0  \n",
       "2019-11-25   21005100.0  \n",
       "\n",
       "[9823 rows x 6 columns]"
      ]
     },
     "execution_count": 9,
     "metadata": {},
     "output_type": "execute_result"
    }
   ],
   "source": [
    "stocks"
   ]
  },
  {
   "cell_type": "code",
   "execution_count": 12,
   "id": "6954021b-c7ce-430b-a7ad-7df75549d192",
   "metadata": {},
   "outputs": [
    {
     "data": {
      "text/html": [
       "<div>\n",
       "<style scoped>\n",
       "    .dataframe tbody tr th:only-of-type {\n",
       "        vertical-align: middle;\n",
       "    }\n",
       "\n",
       "    .dataframe tbody tr th {\n",
       "        vertical-align: top;\n",
       "    }\n",
       "\n",
       "    .dataframe thead th {\n",
       "        text-align: right;\n",
       "    }\n",
       "</style>\n",
       "<table border=\"1\" class=\"dataframe\">\n",
       "  <thead>\n",
       "    <tr style=\"text-align: right;\">\n",
       "      <th></th>\n",
       "      <th>Open</th>\n",
       "      <th>High</th>\n",
       "      <th>Low</th>\n",
       "      <th>Close</th>\n",
       "      <th>Adj Close</th>\n",
       "      <th>Volume</th>\n",
       "    </tr>\n",
       "    <tr>\n",
       "      <th>Date</th>\n",
       "      <th></th>\n",
       "      <th></th>\n",
       "      <th></th>\n",
       "      <th></th>\n",
       "      <th></th>\n",
       "      <th></th>\n",
       "    </tr>\n",
       "  </thead>\n",
       "  <tbody>\n",
       "    <tr>\n",
       "      <th>1980-12-31</th>\n",
       "      <td>0.544299</td>\n",
       "      <td>0.545845</td>\n",
       "      <td>0.543613</td>\n",
       "      <td>0.543613</td>\n",
       "      <td>0.431748</td>\n",
       "      <td>2.586252e+07</td>\n",
       "    </tr>\n",
       "    <tr>\n",
       "      <th>1981-01-31</th>\n",
       "      <td>0.567071</td>\n",
       "      <td>0.568346</td>\n",
       "      <td>0.565264</td>\n",
       "      <td>0.565264</td>\n",
       "      <td>0.448944</td>\n",
       "      <td>7.249867e+06</td>\n",
       "    </tr>\n",
       "    <tr>\n",
       "      <th>1981-02-28</th>\n",
       "      <td>0.472862</td>\n",
       "      <td>0.474506</td>\n",
       "      <td>0.471570</td>\n",
       "      <td>0.471570</td>\n",
       "      <td>0.374530</td>\n",
       "      <td>4.231832e+06</td>\n",
       "    </tr>\n",
       "    <tr>\n",
       "      <th>1981-03-31</th>\n",
       "      <td>0.445312</td>\n",
       "      <td>0.446733</td>\n",
       "      <td>0.443486</td>\n",
       "      <td>0.443486</td>\n",
       "      <td>0.352226</td>\n",
       "      <td>7.962691e+06</td>\n",
       "    </tr>\n",
       "    <tr>\n",
       "      <th>1981-04-30</th>\n",
       "      <td>0.487245</td>\n",
       "      <td>0.488733</td>\n",
       "      <td>0.486182</td>\n",
       "      <td>0.486182</td>\n",
       "      <td>0.386135</td>\n",
       "      <td>6.392000e+06</td>\n",
       "    </tr>\n",
       "    <tr>\n",
       "      <th>...</th>\n",
       "      <td>...</td>\n",
       "      <td>...</td>\n",
       "      <td>...</td>\n",
       "      <td>...</td>\n",
       "      <td>...</td>\n",
       "      <td>...</td>\n",
       "    </tr>\n",
       "    <tr>\n",
       "      <th>2019-07-31</th>\n",
       "      <td>205.051817</td>\n",
       "      <td>206.729545</td>\n",
       "      <td>203.914090</td>\n",
       "      <td>205.216364</td>\n",
       "      <td>203.827658</td>\n",
       "      <td>2.153871e+07</td>\n",
       "    </tr>\n",
       "    <tr>\n",
       "      <th>2019-08-31</th>\n",
       "      <td>205.262274</td>\n",
       "      <td>207.609546</td>\n",
       "      <td>202.849546</td>\n",
       "      <td>204.957728</td>\n",
       "      <td>204.137486</td>\n",
       "      <td>3.095825e+07</td>\n",
       "    </tr>\n",
       "    <tr>\n",
       "      <th>2019-09-30</th>\n",
       "      <td>217.727499</td>\n",
       "      <td>219.471001</td>\n",
       "      <td>215.939500</td>\n",
       "      <td>217.994999</td>\n",
       "      <td>217.342478</td>\n",
       "      <td>2.712836e+07</td>\n",
       "    </tr>\n",
       "    <tr>\n",
       "      <th>2019-10-31</th>\n",
       "      <td>234.929565</td>\n",
       "      <td>236.969131</td>\n",
       "      <td>232.945218</td>\n",
       "      <td>235.286521</td>\n",
       "      <td>234.582242</td>\n",
       "      <td>2.644794e+07</td>\n",
       "    </tr>\n",
       "    <tr>\n",
       "      <th>2019-11-30</th>\n",
       "      <td>260.868230</td>\n",
       "      <td>262.711176</td>\n",
       "      <td>259.478237</td>\n",
       "      <td>261.825298</td>\n",
       "      <td>261.644346</td>\n",
       "      <td>2.318037e+07</td>\n",
       "    </tr>\n",
       "  </tbody>\n",
       "</table>\n",
       "<p>468 rows × 6 columns</p>\n",
       "</div>"
      ],
      "text/plain": [
       "                  Open        High         Low       Close   Adj Close  \\\n",
       "Date                                                                     \n",
       "1980-12-31    0.544299    0.545845    0.543613    0.543613    0.431748   \n",
       "1981-01-31    0.567071    0.568346    0.565264    0.565264    0.448944   \n",
       "1981-02-28    0.472862    0.474506    0.471570    0.471570    0.374530   \n",
       "1981-03-31    0.445312    0.446733    0.443486    0.443486    0.352226   \n",
       "1981-04-30    0.487245    0.488733    0.486182    0.486182    0.386135   \n",
       "...                ...         ...         ...         ...         ...   \n",
       "2019-07-31  205.051817  206.729545  203.914090  205.216364  203.827658   \n",
       "2019-08-31  205.262274  207.609546  202.849546  204.957728  204.137486   \n",
       "2019-09-30  217.727499  219.471001  215.939500  217.994999  217.342478   \n",
       "2019-10-31  234.929565  236.969131  232.945218  235.286521  234.582242   \n",
       "2019-11-30  260.868230  262.711176  259.478237  261.825298  261.644346   \n",
       "\n",
       "                  Volume  \n",
       "Date                      \n",
       "1980-12-31  2.586252e+07  \n",
       "1981-01-31  7.249867e+06  \n",
       "1981-02-28  4.231832e+06  \n",
       "1981-03-31  7.962691e+06  \n",
       "1981-04-30  6.392000e+06  \n",
       "...                  ...  \n",
       "2019-07-31  2.153871e+07  \n",
       "2019-08-31  3.095825e+07  \n",
       "2019-09-30  2.712836e+07  \n",
       "2019-10-31  2.644794e+07  \n",
       "2019-11-30  2.318037e+07  \n",
       "\n",
       "[468 rows x 6 columns]"
      ]
     },
     "execution_count": 12,
     "metadata": {},
     "output_type": "execute_result"
    }
   ],
   "source": [
    "stocks.resample('M').mean()"
   ]
  },
  {
   "cell_type": "code",
   "execution_count": 15,
   "id": "f42245d9-be90-4502-a6a6-9c53acd8bd91",
   "metadata": {},
   "outputs": [
    {
     "data": {
      "text/plain": [
       "<AxesSubplot:xlabel='Date'>"
      ]
     },
     "execution_count": 15,
     "metadata": {},
     "output_type": "execute_result"
    },
    {
     "data": {
      "image/png": "[encoded data removed]",
      "text/plain": [
       "<Figure size 432x288 with 1 Axes>"
      ]
     },
     "metadata": {
      "needs_background": "light"
     },
     "output_type": "display_data"
    }
   ],
   "source": [
    "stocks['Close'].resample('M').mean().plot()"
   ]
  },
  {
   "cell_type": "code",
   "execution_count": 16,
   "id": "09c56eaf-baee-4f5b-b39c-0744cd24550a",
   "metadata": {},
   "outputs": [
    {
     "data": {
      "text/plain": [
       "<AxesSubplot:xlabel='Date'>"
      ]
     },
     "execution_count": 16,
     "metadata": {},
     "output_type": "execute_result"
    },
    {
     "data": {
      "image/png": "[encoded data removed]",
      "text/plain": [
       "<Figure size 432x288 with 1 Axes>"
      ]
     },
     "metadata": {
      "needs_background": "light"
     },
     "output_type": "display_data"
    }
   ],
   "source": [
    "stocks['Close'].resample('Y').mean().plot()"
   ]
  },
  {
   "cell_type": "code",
   "execution_count": 17,
   "id": "c6f5f9ab-f76e-4708-89a4-9aabcdceac92",
   "metadata": {},
   "outputs": [
    {
     "data": {
      "text/plain": [
       "<AxesSubplot:xlabel='Date'>"
      ]
     },
     "execution_count": 17,
     "metadata": {},
     "output_type": "execute_result"
    },
    {
     "data": {
      "image/png": "[encoded data removed]",
      "text/plain": [
       "<Figure size 432x288 with 1 Axes>"
      ]
     },
     "metadata": {
      "needs_background": "light"
     },
     "output_type": "display_data"
    }
   ],
   "source": [
    "stocks['Close'].resample('Q').mean().plot()"
   ]
  },
  {
   "cell_type": "code",
   "execution_count": 21,
   "id": "6464e9f5-18db-4e9d-91d8-5c046e0fc5d8",
   "metadata": {},
   "outputs": [
    {
     "data": {
      "text/plain": [
       "<AxesSubplot:xlabel='Date'>"
      ]
     },
     "execution_count": 21,
     "metadata": {},
     "output_type": "execute_result"
    },
    {
     "data": {
      "image/png": "[encoded data removed]",
      "text/plain": [
       "<Figure size 1440x720 with 1 Axes>"
      ]
     },
     "metadata": {
      "needs_background": "light"
     },
     "output_type": "display_data"
    }
   ],
   "source": [
    "import matplotlib.pyplot as plt\n",
    "plt.figure(figsize=[20,10])\n",
    "stocks['Close'].resample('Y').mean().plot(kind=\"bar\")"
   ]
  },
  {
   "cell_type": "code",
   "execution_count": null,
   "id": "4089b012-09d9-4b8e-973b-a63b398b66a1",
   "metadata": {},
   "outputs": [],
   "source": []
  }
 ],
 "metadata": {
  "kernelspec": {
   "display_name": "Python 3",
   "language": "python",
   "name": "python3"
  },
  "language_info": {
   "codemirror_mode": {
    "name": "ipython",
    "version": 3
   },
   "file_extension": ".py",
   "mimetype": "text/x-python",
   "name": "python",
   "nbconvert_exporter": "python",
   "pygments_lexer": "ipython3",
   "version": "3.8.5"
  }
 },
 "nbformat": 4,
 "nbformat_minor": 5
}
